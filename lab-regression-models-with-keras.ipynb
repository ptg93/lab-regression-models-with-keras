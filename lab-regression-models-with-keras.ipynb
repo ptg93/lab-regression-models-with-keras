{
 "cells": [
  {
   "cell_type": "markdown",
   "metadata": {},
   "source": [
    "<h1>Regression Models with Keras</h1>\n",
    "\n",
    "Objective for this Notebook\n",
    "\n",
    "- How to use the Tensorflow API, Keras, to build a regression model.\n",
    "- Download and Clean dataset\n",
    "- Build a Neural Network\n",
    "- rain and Test the Network"
   ]
  },
  {
   "cell_type": "markdown",
   "metadata": {},
   "source": [
    "## Table of Contents\n",
    "\n",
    "<div class=\"alert alert-block alert-info\" style=\"margin-top: 20px\">\n",
    "\n",
    "<font size = 3>\n",
    "    \n",
    "1. <a href=\"#item31\">Download and Clean Dataset</a>  \n",
    "2. <a href=\"#item32\">Import Keras</a>  \n",
    "3. <a href=\"#item33\">Build a Neural Network</a>  \n",
    "4. <a href=\"#item34\">Train and Test the Network</a>  \n",
    "\n",
    "</font>\n",
    "</div>\n"
   ]
  },
  {
   "cell_type": "markdown",
   "metadata": {},
   "source": [
    "<a id=\"item31\"></a>\n"
   ]
  },
  {
   "cell_type": "markdown",
   "metadata": {},
   "source": [
    "## Download and Clean Dataset\n"
   ]
  },
  {
   "cell_type": "markdown",
   "metadata": {},
   "source": [
    "Let's start by importing the <em>pandas</em> and the Numpy libraries.\n"
   ]
  },
  {
   "cell_type": "code",
   "execution_count": 1,
   "metadata": {
    "tags": []
   },
   "outputs": [],
   "source": [
    "import pandas as pd\n",
    "import numpy as np"
   ]
  },
  {
   "cell_type": "markdown",
   "metadata": {},
   "source": [
    "We will be playing around with the same dataset that we used in the videos.\n",
    "\n",
    "<strong>The dataset is about the compressive strength of different samples of concrete based on the volumes of the different ingredients that were used to make them. Ingredients include:</strong>\n",
    "\n",
    "<strong>1. Cement</strong>\n",
    "\n",
    "<strong>2. Blast Furnace Slag</strong>\n",
    "\n",
    "<strong>3. Fly Ash</strong>\n",
    "\n",
    "<strong>4. Water</strong>\n",
    "\n",
    "<strong>5. Superplasticizer</strong>\n",
    "\n",
    "<strong>6. Coarse Aggregate</strong>\n",
    "\n",
    "<strong>7. Fine Aggregate</strong>\n"
   ]
  },
  {
   "cell_type": "markdown",
   "metadata": {},
   "source": [
    "Let's download the data and read it into a <em>pandas</em> dataframe.\n"
   ]
  },
  {
   "cell_type": "code",
   "execution_count": 8,
   "metadata": {
    "tags": []
   },
   "outputs": [
    {
     "data": {
      "text/html": [
       "<div>\n",
       "<style scoped>\n",
       "    .dataframe tbody tr th:only-of-type {\n",
       "        vertical-align: middle;\n",
       "    }\n",
       "\n",
       "    .dataframe tbody tr th {\n",
       "        vertical-align: top;\n",
       "    }\n",
       "\n",
       "    .dataframe thead th {\n",
       "        text-align: right;\n",
       "    }\n",
       "</style>\n",
       "<table border=\"1\" class=\"dataframe\">\n",
       "  <thead>\n",
       "    <tr style=\"text-align: right;\">\n",
       "      <th></th>\n",
       "      <th>Cement</th>\n",
       "      <th>Blast Furnace Slag</th>\n",
       "      <th>Fly Ash</th>\n",
       "      <th>Water</th>\n",
       "      <th>Superplasticizer</th>\n",
       "      <th>Coarse Aggregate</th>\n",
       "      <th>Fine Aggregate</th>\n",
       "      <th>Age</th>\n",
       "      <th>Strength</th>\n",
       "    </tr>\n",
       "  </thead>\n",
       "  <tbody>\n",
       "    <tr>\n",
       "      <th>0</th>\n",
       "      <td>540.0</td>\n",
       "      <td>0.0</td>\n",
       "      <td>0.0</td>\n",
       "      <td>162.0</td>\n",
       "      <td>2.5</td>\n",
       "      <td>1040.0</td>\n",
       "      <td>676.0</td>\n",
       "      <td>28</td>\n",
       "      <td>79.99</td>\n",
       "    </tr>\n",
       "    <tr>\n",
       "      <th>1</th>\n",
       "      <td>540.0</td>\n",
       "      <td>0.0</td>\n",
       "      <td>0.0</td>\n",
       "      <td>162.0</td>\n",
       "      <td>2.5</td>\n",
       "      <td>1055.0</td>\n",
       "      <td>676.0</td>\n",
       "      <td>28</td>\n",
       "      <td>61.89</td>\n",
       "    </tr>\n",
       "    <tr>\n",
       "      <th>2</th>\n",
       "      <td>332.5</td>\n",
       "      <td>142.5</td>\n",
       "      <td>0.0</td>\n",
       "      <td>228.0</td>\n",
       "      <td>0.0</td>\n",
       "      <td>932.0</td>\n",
       "      <td>594.0</td>\n",
       "      <td>270</td>\n",
       "      <td>40.27</td>\n",
       "    </tr>\n",
       "    <tr>\n",
       "      <th>3</th>\n",
       "      <td>332.5</td>\n",
       "      <td>142.5</td>\n",
       "      <td>0.0</td>\n",
       "      <td>228.0</td>\n",
       "      <td>0.0</td>\n",
       "      <td>932.0</td>\n",
       "      <td>594.0</td>\n",
       "      <td>365</td>\n",
       "      <td>41.05</td>\n",
       "    </tr>\n",
       "    <tr>\n",
       "      <th>4</th>\n",
       "      <td>198.6</td>\n",
       "      <td>132.4</td>\n",
       "      <td>0.0</td>\n",
       "      <td>192.0</td>\n",
       "      <td>0.0</td>\n",
       "      <td>978.4</td>\n",
       "      <td>825.5</td>\n",
       "      <td>360</td>\n",
       "      <td>44.30</td>\n",
       "    </tr>\n",
       "  </tbody>\n",
       "</table>\n",
       "</div>"
      ],
      "text/plain": [
       "   Cement  Blast Furnace Slag  Fly Ash  Water  Superplasticizer  \\\n",
       "0   540.0                 0.0      0.0  162.0               2.5   \n",
       "1   540.0                 0.0      0.0  162.0               2.5   \n",
       "2   332.5               142.5      0.0  228.0               0.0   \n",
       "3   332.5               142.5      0.0  228.0               0.0   \n",
       "4   198.6               132.4      0.0  192.0               0.0   \n",
       "\n",
       "   Coarse Aggregate  Fine Aggregate  Age  Strength  \n",
       "0            1040.0           676.0   28     79.99  \n",
       "1            1055.0           676.0   28     61.89  \n",
       "2             932.0           594.0  270     40.27  \n",
       "3             932.0           594.0  365     41.05  \n",
       "4             978.4           825.5  360     44.30  "
      ]
     },
     "execution_count": 8,
     "metadata": {},
     "output_type": "execute_result"
    }
   ],
   "source": [
    "concrete_data = pd.read_csv('https://s3-api.us-geo.objectstorage.softlayer.net/cf-courses-data/CognitiveClass/DL0101EN/labs/data/concrete_data.csv')\n",
    "concrete_data.head()"
   ]
  },
  {
   "cell_type": "markdown",
   "metadata": {},
   "source": [
    "So the first concrete sample has 540 cubic meter of cement, 0 cubic meter of blast furnace slag, 0 cubic meter of fly ash, 162 cubic meter of water, 2.5 cubic meter of superplaticizer, 1040 cubic meter of coarse aggregate, 676 cubic meter of fine aggregate. Such a concrete mix which is 28 days old, has a compressive strength of 79.99 MPa. \n"
   ]
  },
  {
   "cell_type": "markdown",
   "metadata": {},
   "source": [
    "#### Let's check how many data points we have.\n"
   ]
  },
  {
   "cell_type": "code",
   "execution_count": 9,
   "metadata": {
    "tags": []
   },
   "outputs": [
    {
     "data": {
      "text/plain": [
       "(1030, 9)"
      ]
     },
     "execution_count": 9,
     "metadata": {},
     "output_type": "execute_result"
    }
   ],
   "source": [
    "concrete_data.shape"
   ]
  },
  {
   "cell_type": "markdown",
   "metadata": {},
   "source": [
    "So, there are approximately 1000 samples to train our model on. Because of the few samples, we have to be careful not to overfit the training data.\n"
   ]
  },
  {
   "cell_type": "markdown",
   "metadata": {},
   "source": [
    "Let's check the dataset for any missing values.\n"
   ]
  },
  {
   "cell_type": "code",
   "execution_count": 10,
   "metadata": {
    "tags": []
   },
   "outputs": [
    {
     "data": {
      "text/html": [
       "<div>\n",
       "<style scoped>\n",
       "    .dataframe tbody tr th:only-of-type {\n",
       "        vertical-align: middle;\n",
       "    }\n",
       "\n",
       "    .dataframe tbody tr th {\n",
       "        vertical-align: top;\n",
       "    }\n",
       "\n",
       "    .dataframe thead th {\n",
       "        text-align: right;\n",
       "    }\n",
       "</style>\n",
       "<table border=\"1\" class=\"dataframe\">\n",
       "  <thead>\n",
       "    <tr style=\"text-align: right;\">\n",
       "      <th></th>\n",
       "      <th>Cement</th>\n",
       "      <th>Blast Furnace Slag</th>\n",
       "      <th>Fly Ash</th>\n",
       "      <th>Water</th>\n",
       "      <th>Superplasticizer</th>\n",
       "      <th>Coarse Aggregate</th>\n",
       "      <th>Fine Aggregate</th>\n",
       "      <th>Age</th>\n",
       "      <th>Strength</th>\n",
       "    </tr>\n",
       "  </thead>\n",
       "  <tbody>\n",
       "    <tr>\n",
       "      <th>count</th>\n",
       "      <td>1030.000000</td>\n",
       "      <td>1030.000000</td>\n",
       "      <td>1030.000000</td>\n",
       "      <td>1030.000000</td>\n",
       "      <td>1030.000000</td>\n",
       "      <td>1030.000000</td>\n",
       "      <td>1030.000000</td>\n",
       "      <td>1030.000000</td>\n",
       "      <td>1030.000000</td>\n",
       "    </tr>\n",
       "    <tr>\n",
       "      <th>mean</th>\n",
       "      <td>281.167864</td>\n",
       "      <td>73.895825</td>\n",
       "      <td>54.188350</td>\n",
       "      <td>181.567282</td>\n",
       "      <td>6.204660</td>\n",
       "      <td>972.918932</td>\n",
       "      <td>773.580485</td>\n",
       "      <td>45.662136</td>\n",
       "      <td>35.817961</td>\n",
       "    </tr>\n",
       "    <tr>\n",
       "      <th>std</th>\n",
       "      <td>104.506364</td>\n",
       "      <td>86.279342</td>\n",
       "      <td>63.997004</td>\n",
       "      <td>21.354219</td>\n",
       "      <td>5.973841</td>\n",
       "      <td>77.753954</td>\n",
       "      <td>80.175980</td>\n",
       "      <td>63.169912</td>\n",
       "      <td>16.705742</td>\n",
       "    </tr>\n",
       "    <tr>\n",
       "      <th>min</th>\n",
       "      <td>102.000000</td>\n",
       "      <td>0.000000</td>\n",
       "      <td>0.000000</td>\n",
       "      <td>121.800000</td>\n",
       "      <td>0.000000</td>\n",
       "      <td>801.000000</td>\n",
       "      <td>594.000000</td>\n",
       "      <td>1.000000</td>\n",
       "      <td>2.330000</td>\n",
       "    </tr>\n",
       "    <tr>\n",
       "      <th>25%</th>\n",
       "      <td>192.375000</td>\n",
       "      <td>0.000000</td>\n",
       "      <td>0.000000</td>\n",
       "      <td>164.900000</td>\n",
       "      <td>0.000000</td>\n",
       "      <td>932.000000</td>\n",
       "      <td>730.950000</td>\n",
       "      <td>7.000000</td>\n",
       "      <td>23.710000</td>\n",
       "    </tr>\n",
       "    <tr>\n",
       "      <th>50%</th>\n",
       "      <td>272.900000</td>\n",
       "      <td>22.000000</td>\n",
       "      <td>0.000000</td>\n",
       "      <td>185.000000</td>\n",
       "      <td>6.400000</td>\n",
       "      <td>968.000000</td>\n",
       "      <td>779.500000</td>\n",
       "      <td>28.000000</td>\n",
       "      <td>34.445000</td>\n",
       "    </tr>\n",
       "    <tr>\n",
       "      <th>75%</th>\n",
       "      <td>350.000000</td>\n",
       "      <td>142.950000</td>\n",
       "      <td>118.300000</td>\n",
       "      <td>192.000000</td>\n",
       "      <td>10.200000</td>\n",
       "      <td>1029.400000</td>\n",
       "      <td>824.000000</td>\n",
       "      <td>56.000000</td>\n",
       "      <td>46.135000</td>\n",
       "    </tr>\n",
       "    <tr>\n",
       "      <th>max</th>\n",
       "      <td>540.000000</td>\n",
       "      <td>359.400000</td>\n",
       "      <td>200.100000</td>\n",
       "      <td>247.000000</td>\n",
       "      <td>32.200000</td>\n",
       "      <td>1145.000000</td>\n",
       "      <td>992.600000</td>\n",
       "      <td>365.000000</td>\n",
       "      <td>82.600000</td>\n",
       "    </tr>\n",
       "  </tbody>\n",
       "</table>\n",
       "</div>"
      ],
      "text/plain": [
       "            Cement  Blast Furnace Slag      Fly Ash        Water  \\\n",
       "count  1030.000000         1030.000000  1030.000000  1030.000000   \n",
       "mean    281.167864           73.895825    54.188350   181.567282   \n",
       "std     104.506364           86.279342    63.997004    21.354219   \n",
       "min     102.000000            0.000000     0.000000   121.800000   \n",
       "25%     192.375000            0.000000     0.000000   164.900000   \n",
       "50%     272.900000           22.000000     0.000000   185.000000   \n",
       "75%     350.000000          142.950000   118.300000   192.000000   \n",
       "max     540.000000          359.400000   200.100000   247.000000   \n",
       "\n",
       "       Superplasticizer  Coarse Aggregate  Fine Aggregate          Age  \\\n",
       "count       1030.000000       1030.000000     1030.000000  1030.000000   \n",
       "mean           6.204660        972.918932      773.580485    45.662136   \n",
       "std            5.973841         77.753954       80.175980    63.169912   \n",
       "min            0.000000        801.000000      594.000000     1.000000   \n",
       "25%            0.000000        932.000000      730.950000     7.000000   \n",
       "50%            6.400000        968.000000      779.500000    28.000000   \n",
       "75%           10.200000       1029.400000      824.000000    56.000000   \n",
       "max           32.200000       1145.000000      992.600000   365.000000   \n",
       "\n",
       "          Strength  \n",
       "count  1030.000000  \n",
       "mean     35.817961  \n",
       "std      16.705742  \n",
       "min       2.330000  \n",
       "25%      23.710000  \n",
       "50%      34.445000  \n",
       "75%      46.135000  \n",
       "max      82.600000  "
      ]
     },
     "execution_count": 10,
     "metadata": {},
     "output_type": "execute_result"
    }
   ],
   "source": [
    "concrete_data.describe()"
   ]
  },
  {
   "cell_type": "code",
   "execution_count": 11,
   "metadata": {
    "tags": []
   },
   "outputs": [
    {
     "data": {
      "text/plain": [
       "Cement                0\n",
       "Blast Furnace Slag    0\n",
       "Fly Ash               0\n",
       "Water                 0\n",
       "Superplasticizer      0\n",
       "Coarse Aggregate      0\n",
       "Fine Aggregate        0\n",
       "Age                   0\n",
       "Strength              0\n",
       "dtype: int64"
      ]
     },
     "execution_count": 11,
     "metadata": {},
     "output_type": "execute_result"
    }
   ],
   "source": [
    "concrete_data.isnull().sum()"
   ]
  },
  {
   "cell_type": "markdown",
   "metadata": {},
   "source": [
    "The data looks very clean and is ready to be used to build our model.\n"
   ]
  },
  {
   "cell_type": "markdown",
   "metadata": {},
   "source": [
    "#### Split data into predictors and target\n"
   ]
  },
  {
   "cell_type": "markdown",
   "metadata": {},
   "source": [
    "The target variable in this problem is the concrete sample strength. Therefore, our predictors will be all the other columns.\n"
   ]
  },
  {
   "cell_type": "code",
   "execution_count": 12,
   "metadata": {
    "tags": []
   },
   "outputs": [],
   "source": [
    "concrete_data_columns = concrete_data.columns\n",
    "\n",
    "predictors = concrete_data[concrete_data_columns[concrete_data_columns != 'Strength']] # all columns except Strength\n",
    "target = concrete_data['Strength'] # Strength column"
   ]
  },
  {
   "cell_type": "markdown",
   "metadata": {},
   "source": [
    "<a id=\"item2\"></a>\n"
   ]
  },
  {
   "cell_type": "markdown",
   "metadata": {},
   "source": [
    "Let's do a quick sanity check of the predictors and the target dataframes.\n"
   ]
  },
  {
   "cell_type": "code",
   "execution_count": 13,
   "metadata": {
    "tags": []
   },
   "outputs": [
    {
     "data": {
      "text/html": [
       "<div>\n",
       "<style scoped>\n",
       "    .dataframe tbody tr th:only-of-type {\n",
       "        vertical-align: middle;\n",
       "    }\n",
       "\n",
       "    .dataframe tbody tr th {\n",
       "        vertical-align: top;\n",
       "    }\n",
       "\n",
       "    .dataframe thead th {\n",
       "        text-align: right;\n",
       "    }\n",
       "</style>\n",
       "<table border=\"1\" class=\"dataframe\">\n",
       "  <thead>\n",
       "    <tr style=\"text-align: right;\">\n",
       "      <th></th>\n",
       "      <th>Cement</th>\n",
       "      <th>Blast Furnace Slag</th>\n",
       "      <th>Fly Ash</th>\n",
       "      <th>Water</th>\n",
       "      <th>Superplasticizer</th>\n",
       "      <th>Coarse Aggregate</th>\n",
       "      <th>Fine Aggregate</th>\n",
       "      <th>Age</th>\n",
       "    </tr>\n",
       "  </thead>\n",
       "  <tbody>\n",
       "    <tr>\n",
       "      <th>0</th>\n",
       "      <td>540.0</td>\n",
       "      <td>0.0</td>\n",
       "      <td>0.0</td>\n",
       "      <td>162.0</td>\n",
       "      <td>2.5</td>\n",
       "      <td>1040.0</td>\n",
       "      <td>676.0</td>\n",
       "      <td>28</td>\n",
       "    </tr>\n",
       "    <tr>\n",
       "      <th>1</th>\n",
       "      <td>540.0</td>\n",
       "      <td>0.0</td>\n",
       "      <td>0.0</td>\n",
       "      <td>162.0</td>\n",
       "      <td>2.5</td>\n",
       "      <td>1055.0</td>\n",
       "      <td>676.0</td>\n",
       "      <td>28</td>\n",
       "    </tr>\n",
       "    <tr>\n",
       "      <th>2</th>\n",
       "      <td>332.5</td>\n",
       "      <td>142.5</td>\n",
       "      <td>0.0</td>\n",
       "      <td>228.0</td>\n",
       "      <td>0.0</td>\n",
       "      <td>932.0</td>\n",
       "      <td>594.0</td>\n",
       "      <td>270</td>\n",
       "    </tr>\n",
       "    <tr>\n",
       "      <th>3</th>\n",
       "      <td>332.5</td>\n",
       "      <td>142.5</td>\n",
       "      <td>0.0</td>\n",
       "      <td>228.0</td>\n",
       "      <td>0.0</td>\n",
       "      <td>932.0</td>\n",
       "      <td>594.0</td>\n",
       "      <td>365</td>\n",
       "    </tr>\n",
       "    <tr>\n",
       "      <th>4</th>\n",
       "      <td>198.6</td>\n",
       "      <td>132.4</td>\n",
       "      <td>0.0</td>\n",
       "      <td>192.0</td>\n",
       "      <td>0.0</td>\n",
       "      <td>978.4</td>\n",
       "      <td>825.5</td>\n",
       "      <td>360</td>\n",
       "    </tr>\n",
       "  </tbody>\n",
       "</table>\n",
       "</div>"
      ],
      "text/plain": [
       "   Cement  Blast Furnace Slag  Fly Ash  Water  Superplasticizer  \\\n",
       "0   540.0                 0.0      0.0  162.0               2.5   \n",
       "1   540.0                 0.0      0.0  162.0               2.5   \n",
       "2   332.5               142.5      0.0  228.0               0.0   \n",
       "3   332.5               142.5      0.0  228.0               0.0   \n",
       "4   198.6               132.4      0.0  192.0               0.0   \n",
       "\n",
       "   Coarse Aggregate  Fine Aggregate  Age  \n",
       "0            1040.0           676.0   28  \n",
       "1            1055.0           676.0   28  \n",
       "2             932.0           594.0  270  \n",
       "3             932.0           594.0  365  \n",
       "4             978.4           825.5  360  "
      ]
     },
     "execution_count": 13,
     "metadata": {},
     "output_type": "execute_result"
    }
   ],
   "source": [
    "predictors.head()"
   ]
  },
  {
   "cell_type": "code",
   "execution_count": 14,
   "metadata": {
    "tags": []
   },
   "outputs": [
    {
     "data": {
      "text/plain": [
       "0    79.99\n",
       "1    61.89\n",
       "2    40.27\n",
       "3    41.05\n",
       "4    44.30\n",
       "Name: Strength, dtype: float64"
      ]
     },
     "execution_count": 14,
     "metadata": {},
     "output_type": "execute_result"
    }
   ],
   "source": [
    "target.head()"
   ]
  },
  {
   "cell_type": "markdown",
   "metadata": {},
   "source": [
    "Finally, the last step is to normalize the data by substracting the mean and dividing by the standard deviation.\n"
   ]
  },
  {
   "cell_type": "code",
   "execution_count": 15,
   "metadata": {
    "tags": []
   },
   "outputs": [
    {
     "data": {
      "text/html": [
       "<div>\n",
       "<style scoped>\n",
       "    .dataframe tbody tr th:only-of-type {\n",
       "        vertical-align: middle;\n",
       "    }\n",
       "\n",
       "    .dataframe tbody tr th {\n",
       "        vertical-align: top;\n",
       "    }\n",
       "\n",
       "    .dataframe thead th {\n",
       "        text-align: right;\n",
       "    }\n",
       "</style>\n",
       "<table border=\"1\" class=\"dataframe\">\n",
       "  <thead>\n",
       "    <tr style=\"text-align: right;\">\n",
       "      <th></th>\n",
       "      <th>Cement</th>\n",
       "      <th>Blast Furnace Slag</th>\n",
       "      <th>Fly Ash</th>\n",
       "      <th>Water</th>\n",
       "      <th>Superplasticizer</th>\n",
       "      <th>Coarse Aggregate</th>\n",
       "      <th>Fine Aggregate</th>\n",
       "      <th>Age</th>\n",
       "    </tr>\n",
       "  </thead>\n",
       "  <tbody>\n",
       "    <tr>\n",
       "      <th>0</th>\n",
       "      <td>2.476712</td>\n",
       "      <td>-0.856472</td>\n",
       "      <td>-0.846733</td>\n",
       "      <td>-0.916319</td>\n",
       "      <td>-0.620147</td>\n",
       "      <td>0.862735</td>\n",
       "      <td>-1.217079</td>\n",
       "      <td>-0.279597</td>\n",
       "    </tr>\n",
       "    <tr>\n",
       "      <th>1</th>\n",
       "      <td>2.476712</td>\n",
       "      <td>-0.856472</td>\n",
       "      <td>-0.846733</td>\n",
       "      <td>-0.916319</td>\n",
       "      <td>-0.620147</td>\n",
       "      <td>1.055651</td>\n",
       "      <td>-1.217079</td>\n",
       "      <td>-0.279597</td>\n",
       "    </tr>\n",
       "    <tr>\n",
       "      <th>2</th>\n",
       "      <td>0.491187</td>\n",
       "      <td>0.795140</td>\n",
       "      <td>-0.846733</td>\n",
       "      <td>2.174405</td>\n",
       "      <td>-1.038638</td>\n",
       "      <td>-0.526262</td>\n",
       "      <td>-2.239829</td>\n",
       "      <td>3.551340</td>\n",
       "    </tr>\n",
       "    <tr>\n",
       "      <th>3</th>\n",
       "      <td>0.491187</td>\n",
       "      <td>0.795140</td>\n",
       "      <td>-0.846733</td>\n",
       "      <td>2.174405</td>\n",
       "      <td>-1.038638</td>\n",
       "      <td>-0.526262</td>\n",
       "      <td>-2.239829</td>\n",
       "      <td>5.055221</td>\n",
       "    </tr>\n",
       "    <tr>\n",
       "      <th>4</th>\n",
       "      <td>-0.790075</td>\n",
       "      <td>0.678079</td>\n",
       "      <td>-0.846733</td>\n",
       "      <td>0.488555</td>\n",
       "      <td>-1.038638</td>\n",
       "      <td>0.070492</td>\n",
       "      <td>0.647569</td>\n",
       "      <td>4.976069</td>\n",
       "    </tr>\n",
       "  </tbody>\n",
       "</table>\n",
       "</div>"
      ],
      "text/plain": [
       "     Cement  Blast Furnace Slag   Fly Ash     Water  Superplasticizer  \\\n",
       "0  2.476712           -0.856472 -0.846733 -0.916319         -0.620147   \n",
       "1  2.476712           -0.856472 -0.846733 -0.916319         -0.620147   \n",
       "2  0.491187            0.795140 -0.846733  2.174405         -1.038638   \n",
       "3  0.491187            0.795140 -0.846733  2.174405         -1.038638   \n",
       "4 -0.790075            0.678079 -0.846733  0.488555         -1.038638   \n",
       "\n",
       "   Coarse Aggregate  Fine Aggregate       Age  \n",
       "0          0.862735       -1.217079 -0.279597  \n",
       "1          1.055651       -1.217079 -0.279597  \n",
       "2         -0.526262       -2.239829  3.551340  \n",
       "3         -0.526262       -2.239829  5.055221  \n",
       "4          0.070492        0.647569  4.976069  "
      ]
     },
     "execution_count": 15,
     "metadata": {},
     "output_type": "execute_result"
    }
   ],
   "source": [
    "predictors_norm = (predictors - predictors.mean()) / predictors.std()\n",
    "predictors_norm.head()"
   ]
  },
  {
   "cell_type": "markdown",
   "metadata": {},
   "source": [
    "Let's save the number of predictors to *n_cols* since we will need this number when building our network.\n"
   ]
  },
  {
   "cell_type": "code",
   "execution_count": 16,
   "metadata": {
    "tags": []
   },
   "outputs": [],
   "source": [
    "n_cols = predictors_norm.shape[1] # number of predictors"
   ]
  },
  {
   "cell_type": "markdown",
   "metadata": {},
   "source": [
    "<a id=\"item1\"></a>\n"
   ]
  },
  {
   "cell_type": "markdown",
   "metadata": {},
   "source": [
    "<a id='item32'></a>\n"
   ]
  },
  {
   "cell_type": "markdown",
   "metadata": {},
   "source": [
    "## Import Keras\n"
   ]
  },
  {
   "cell_type": "markdown",
   "metadata": {},
   "source": [
    "Recall from the videos that Keras normally runs on top of a low-level library such as TensorFlow. This means that to be able to use the Keras library, you will have to install TensorFlow first and when you import the Keras library, it will be explicitly displayed what backend was used to install the Keras library. In CC Labs, we used TensorFlow as the backend to install Keras, so it should clearly print that when we import Keras.\n"
   ]
  },
  {
   "cell_type": "markdown",
   "metadata": {},
   "source": [
    "#### Let's go ahead and import the Keras library\n"
   ]
  },
  {
   "cell_type": "code",
   "execution_count": 17,
   "metadata": {
    "tags": []
   },
   "outputs": [],
   "source": [
    "from tensorflow import keras"
   ]
  },
  {
   "cell_type": "markdown",
   "metadata": {},
   "source": [
    "As you can see, the TensorFlow backend was used to install the Keras library.\n"
   ]
  },
  {
   "cell_type": "markdown",
   "metadata": {},
   "source": [
    "Let's import the rest of the packages from the Keras library that we will need to build our regressoin model.\n"
   ]
  },
  {
   "cell_type": "code",
   "execution_count": 18,
   "metadata": {
    "tags": []
   },
   "outputs": [],
   "source": [
    "from keras.models import Sequential\n",
    "from keras.layers import Dense"
   ]
  },
  {
   "cell_type": "markdown",
   "metadata": {},
   "source": [
    "<a id='item33'></a>\n"
   ]
  },
  {
   "cell_type": "markdown",
   "metadata": {},
   "source": [
    "## Build a Neural Network\n"
   ]
  },
  {
   "cell_type": "markdown",
   "metadata": {},
   "source": [
    "Let's define a function that defines our regression model for us so that we can conveniently call it to create our model.\n"
   ]
  },
  {
   "cell_type": "code",
   "execution_count": 19,
   "metadata": {
    "tags": []
   },
   "outputs": [],
   "source": [
    "# define regression model\n",
    "def regression_model():\n",
    "    # create model\n",
    "    \"\"\"\n",
    "    1. Initial a sequence model\n",
    "    2. Add 2 dense layers with a relu activation function and 50 neurons each\n",
    "    3. Add a final layer. Remember this is a regression task.\n",
    "    \"\"\"\n",
    "    model = Sequential()\n",
    "    model.add(Dense(50, activation='relu',input_shape=(n_cols,)))\n",
    "    model.add(Dense(50, activation='relu'))\n",
    "    model.add(Dense(1))\n",
    "    \n",
    "    # compile model\n",
    "    model.compile(optimizer='adam', loss='mean_squared_error')\n",
    "    return model"
   ]
  },
  {
   "cell_type": "markdown",
   "metadata": {},
   "source": [
    "The above function create a model that has two hidden layers, each of 50 hidden units.\n"
   ]
  },
  {
   "cell_type": "markdown",
   "metadata": {},
   "source": [
    "<a id=\"item4\"></a>\n"
   ]
  },
  {
   "cell_type": "markdown",
   "metadata": {},
   "source": [
    "<a id='item34'></a>\n"
   ]
  },
  {
   "cell_type": "markdown",
   "metadata": {},
   "source": [
    "## Train and Test the Network\n"
   ]
  },
  {
   "cell_type": "markdown",
   "metadata": {},
   "source": [
    "Let's call the function now to create our model.\n"
   ]
  },
  {
   "cell_type": "code",
   "execution_count": 20,
   "metadata": {
    "tags": []
   },
   "outputs": [],
   "source": [
    "# build the model\n",
    "model = regression_model()"
   ]
  },
  {
   "cell_type": "markdown",
   "metadata": {},
   "source": [
    "Next, we will train and test the model at the same time using the *fit* method. We will leave out 30% of the data for validation and we will train the model for 100 epochs.\n"
   ]
  },
  {
   "cell_type": "code",
   "execution_count": 22,
   "metadata": {
    "tags": []
   },
   "outputs": [
    {
     "name": "stdout",
     "output_type": "stream",
     "text": [
      "Epoch 1/200\n",
      "23/23 - 0s - loss: 33.8655 - val_loss: 165.5369 - 76ms/epoch - 3ms/step\n",
      "Epoch 2/200\n",
      "23/23 - 0s - loss: 33.3689 - val_loss: 171.8683 - 42ms/epoch - 2ms/step\n",
      "Epoch 3/200\n",
      "23/23 - 0s - loss: 32.3320 - val_loss: 186.4139 - 42ms/epoch - 2ms/step\n",
      "Epoch 4/200\n",
      "23/23 - 0s - loss: 32.3115 - val_loss: 173.0964 - 42ms/epoch - 2ms/step\n",
      "Epoch 5/200\n",
      "23/23 - 0s - loss: 32.0414 - val_loss: 166.4974 - 42ms/epoch - 2ms/step\n",
      "Epoch 6/200\n",
      "23/23 - 0s - loss: 31.6554 - val_loss: 179.7305 - 43ms/epoch - 2ms/step\n",
      "Epoch 7/200\n",
      "23/23 - 0s - loss: 31.6910 - val_loss: 174.0972 - 44ms/epoch - 2ms/step\n",
      "Epoch 8/200\n",
      "23/23 - 0s - loss: 31.2115 - val_loss: 179.3597 - 43ms/epoch - 2ms/step\n",
      "Epoch 9/200\n",
      "23/23 - 0s - loss: 31.0136 - val_loss: 175.9877 - 47ms/epoch - 2ms/step\n",
      "Epoch 10/200\n",
      "23/23 - 0s - loss: 30.2690 - val_loss: 162.9663 - 42ms/epoch - 2ms/step\n",
      "Epoch 11/200\n",
      "23/23 - 0s - loss: 30.7039 - val_loss: 174.3224 - 44ms/epoch - 2ms/step\n",
      "Epoch 12/200\n",
      "23/23 - 0s - loss: 30.1659 - val_loss: 173.5779 - 44ms/epoch - 2ms/step\n",
      "Epoch 13/200\n",
      "23/23 - 0s - loss: 29.5184 - val_loss: 172.4191 - 43ms/epoch - 2ms/step\n",
      "Epoch 14/200\n",
      "23/23 - 0s - loss: 29.2326 - val_loss: 163.7928 - 42ms/epoch - 2ms/step\n",
      "Epoch 15/200\n",
      "23/23 - 0s - loss: 28.9571 - val_loss: 177.0102 - 43ms/epoch - 2ms/step\n",
      "Epoch 16/200\n",
      "23/23 - 0s - loss: 29.5116 - val_loss: 158.6075 - 44ms/epoch - 2ms/step\n",
      "Epoch 17/200\n",
      "23/23 - 0s - loss: 29.1445 - val_loss: 165.4050 - 42ms/epoch - 2ms/step\n",
      "Epoch 18/200\n",
      "23/23 - 0s - loss: 28.5906 - val_loss: 155.0405 - 42ms/epoch - 2ms/step\n",
      "Epoch 19/200\n",
      "23/23 - 0s - loss: 28.0088 - val_loss: 167.7821 - 42ms/epoch - 2ms/step\n",
      "Epoch 20/200\n",
      "23/23 - 0s - loss: 27.8748 - val_loss: 157.1899 - 42ms/epoch - 2ms/step\n",
      "Epoch 21/200\n",
      "23/23 - 0s - loss: 27.7949 - val_loss: 154.1389 - 41ms/epoch - 2ms/step\n",
      "Epoch 22/200\n",
      "23/23 - 0s - loss: 28.1458 - val_loss: 162.4364 - 42ms/epoch - 2ms/step\n",
      "Epoch 23/200\n",
      "23/23 - 0s - loss: 27.3034 - val_loss: 163.0989 - 42ms/epoch - 2ms/step\n",
      "Epoch 24/200\n",
      "23/23 - 0s - loss: 26.9522 - val_loss: 167.6964 - 42ms/epoch - 2ms/step\n",
      "Epoch 25/200\n",
      "23/23 - 0s - loss: 27.2323 - val_loss: 166.1478 - 43ms/epoch - 2ms/step\n",
      "Epoch 26/200\n",
      "23/23 - 0s - loss: 26.6859 - val_loss: 153.4025 - 46ms/epoch - 2ms/step\n",
      "Epoch 27/200\n",
      "23/23 - 0s - loss: 27.1084 - val_loss: 154.3784 - 42ms/epoch - 2ms/step\n",
      "Epoch 28/200\n",
      "23/23 - 0s - loss: 26.2200 - val_loss: 162.6750 - 164ms/epoch - 7ms/step\n",
      "Epoch 29/200\n",
      "23/23 - 0s - loss: 26.2634 - val_loss: 167.6183 - 42ms/epoch - 2ms/step\n",
      "Epoch 30/200\n",
      "23/23 - 0s - loss: 25.8386 - val_loss: 164.3287 - 43ms/epoch - 2ms/step\n",
      "Epoch 31/200\n",
      "23/23 - 0s - loss: 25.7938 - val_loss: 154.7670 - 42ms/epoch - 2ms/step\n",
      "Epoch 32/200\n",
      "23/23 - 0s - loss: 25.9044 - val_loss: 156.1969 - 42ms/epoch - 2ms/step\n",
      "Epoch 33/200\n",
      "23/23 - 0s - loss: 25.6439 - val_loss: 151.8819 - 42ms/epoch - 2ms/step\n",
      "Epoch 34/200\n",
      "23/23 - 0s - loss: 25.2347 - val_loss: 166.6356 - 42ms/epoch - 2ms/step\n",
      "Epoch 35/200\n",
      "23/23 - 0s - loss: 25.1600 - val_loss: 166.6076 - 43ms/epoch - 2ms/step\n",
      "Epoch 36/200\n",
      "23/23 - 0s - loss: 25.0396 - val_loss: 149.9896 - 41ms/epoch - 2ms/step\n",
      "Epoch 37/200\n",
      "23/23 - 0s - loss: 25.0469 - val_loss: 161.4580 - 42ms/epoch - 2ms/step\n",
      "Epoch 38/200\n",
      "23/23 - 0s - loss: 25.0797 - val_loss: 152.5773 - 42ms/epoch - 2ms/step\n",
      "Epoch 39/200\n",
      "23/23 - 0s - loss: 24.8570 - val_loss: 136.3682 - 42ms/epoch - 2ms/step\n",
      "Epoch 40/200\n",
      "23/23 - 0s - loss: 24.5561 - val_loss: 149.8882 - 42ms/epoch - 2ms/step\n",
      "Epoch 41/200\n",
      "23/23 - 0s - loss: 24.4146 - val_loss: 152.0810 - 43ms/epoch - 2ms/step\n",
      "Epoch 42/200\n",
      "23/23 - 0s - loss: 23.9670 - val_loss: 162.6850 - 41ms/epoch - 2ms/step\n",
      "Epoch 43/200\n",
      "23/23 - 0s - loss: 23.8546 - val_loss: 153.8334 - 41ms/epoch - 2ms/step\n",
      "Epoch 44/200\n",
      "23/23 - 0s - loss: 23.5067 - val_loss: 157.6168 - 41ms/epoch - 2ms/step\n",
      "Epoch 45/200\n",
      "23/23 - 0s - loss: 23.2971 - val_loss: 154.7717 - 45ms/epoch - 2ms/step\n",
      "Epoch 46/200\n",
      "23/23 - 0s - loss: 23.5431 - val_loss: 146.1135 - 41ms/epoch - 2ms/step\n",
      "Epoch 47/200\n",
      "23/23 - 0s - loss: 22.9787 - val_loss: 155.6840 - 43ms/epoch - 2ms/step\n",
      "Epoch 48/200\n",
      "23/23 - 0s - loss: 22.9714 - val_loss: 143.5063 - 42ms/epoch - 2ms/step\n",
      "Epoch 49/200\n",
      "23/23 - 0s - loss: 22.9182 - val_loss: 153.8699 - 41ms/epoch - 2ms/step\n",
      "Epoch 50/200\n",
      "23/23 - 0s - loss: 23.5546 - val_loss: 136.3585 - 43ms/epoch - 2ms/step\n",
      "Epoch 51/200\n",
      "23/23 - 0s - loss: 23.1011 - val_loss: 155.2236 - 42ms/epoch - 2ms/step\n",
      "Epoch 52/200\n",
      "23/23 - 0s - loss: 22.2085 - val_loss: 154.8766 - 41ms/epoch - 2ms/step\n",
      "Epoch 53/200\n",
      "23/23 - 0s - loss: 22.0843 - val_loss: 136.4157 - 42ms/epoch - 2ms/step\n",
      "Epoch 54/200\n",
      "23/23 - 0s - loss: 22.7657 - val_loss: 149.1434 - 42ms/epoch - 2ms/step\n",
      "Epoch 55/200\n",
      "23/23 - 0s - loss: 22.5650 - val_loss: 148.7909 - 42ms/epoch - 2ms/step\n",
      "Epoch 56/200\n",
      "23/23 - 0s - loss: 22.7168 - val_loss: 147.9345 - 42ms/epoch - 2ms/step\n",
      "Epoch 57/200\n",
      "23/23 - 0s - loss: 22.0285 - val_loss: 143.1192 - 43ms/epoch - 2ms/step\n",
      "Epoch 58/200\n",
      "23/23 - 0s - loss: 21.9057 - val_loss: 134.5911 - 43ms/epoch - 2ms/step\n",
      "Epoch 59/200\n",
      "23/23 - 0s - loss: 21.7293 - val_loss: 143.9231 - 42ms/epoch - 2ms/step\n",
      "Epoch 60/200\n",
      "23/23 - 0s - loss: 21.8200 - val_loss: 139.4985 - 43ms/epoch - 2ms/step\n",
      "Epoch 61/200\n",
      "23/23 - 0s - loss: 21.3854 - val_loss: 154.4553 - 43ms/epoch - 2ms/step\n",
      "Epoch 62/200\n",
      "23/23 - 0s - loss: 20.9872 - val_loss: 155.9300 - 42ms/epoch - 2ms/step\n",
      "Epoch 63/200\n",
      "23/23 - 0s - loss: 21.9645 - val_loss: 151.6115 - 43ms/epoch - 2ms/step\n",
      "Epoch 64/200\n",
      "23/23 - 0s - loss: 21.4457 - val_loss: 142.1731 - 42ms/epoch - 2ms/step\n",
      "Epoch 65/200\n",
      "23/23 - 0s - loss: 20.9281 - val_loss: 136.3008 - 41ms/epoch - 2ms/step\n",
      "Epoch 66/200\n",
      "23/23 - 0s - loss: 20.8946 - val_loss: 135.9713 - 42ms/epoch - 2ms/step\n",
      "Epoch 67/200\n",
      "23/23 - 0s - loss: 21.0748 - val_loss: 152.9853 - 42ms/epoch - 2ms/step\n",
      "Epoch 68/200\n",
      "23/23 - 0s - loss: 20.9092 - val_loss: 150.5323 - 42ms/epoch - 2ms/step\n",
      "Epoch 69/200\n",
      "23/23 - 0s - loss: 20.1783 - val_loss: 146.3861 - 42ms/epoch - 2ms/step\n",
      "Epoch 70/200\n",
      "23/23 - 0s - loss: 20.3982 - val_loss: 155.3991 - 42ms/epoch - 2ms/step\n",
      "Epoch 71/200\n",
      "23/23 - 0s - loss: 19.9786 - val_loss: 135.1565 - 42ms/epoch - 2ms/step\n",
      "Epoch 72/200\n",
      "23/23 - 0s - loss: 20.0896 - val_loss: 130.8597 - 42ms/epoch - 2ms/step\n",
      "Epoch 73/200\n",
      "23/23 - 0s - loss: 20.0344 - val_loss: 131.5114 - 42ms/epoch - 2ms/step\n",
      "Epoch 74/200\n",
      "23/23 - 0s - loss: 20.4744 - val_loss: 134.9478 - 42ms/epoch - 2ms/step\n",
      "Epoch 75/200\n",
      "23/23 - 0s - loss: 20.0373 - val_loss: 140.8655 - 44ms/epoch - 2ms/step\n",
      "Epoch 76/200\n",
      "23/23 - 0s - loss: 19.4786 - val_loss: 146.7599 - 44ms/epoch - 2ms/step\n",
      "Epoch 77/200\n",
      "23/23 - 0s - loss: 19.3069 - val_loss: 139.9882 - 42ms/epoch - 2ms/step\n",
      "Epoch 78/200\n",
      "23/23 - 0s - loss: 19.4056 - val_loss: 140.2907 - 43ms/epoch - 2ms/step\n",
      "Epoch 79/200\n",
      "23/23 - 0s - loss: 19.3625 - val_loss: 130.1873 - 43ms/epoch - 2ms/step\n",
      "Epoch 80/200\n",
      "23/23 - 0s - loss: 19.6253 - val_loss: 131.7737 - 47ms/epoch - 2ms/step\n",
      "Epoch 81/200\n",
      "23/23 - 0s - loss: 19.4065 - val_loss: 129.8376 - 41ms/epoch - 2ms/step\n",
      "Epoch 82/200\n",
      "23/23 - 0s - loss: 19.0253 - val_loss: 133.6836 - 43ms/epoch - 2ms/step\n",
      "Epoch 83/200\n",
      "23/23 - 0s - loss: 19.2388 - val_loss: 140.4220 - 42ms/epoch - 2ms/step\n",
      "Epoch 84/200\n",
      "23/23 - 0s - loss: 18.6996 - val_loss: 127.5775 - 43ms/epoch - 2ms/step\n",
      "Epoch 85/200\n",
      "23/23 - 0s - loss: 18.6694 - val_loss: 139.9544 - 42ms/epoch - 2ms/step\n",
      "Epoch 86/200\n",
      "23/23 - 0s - loss: 18.8192 - val_loss: 144.5659 - 42ms/epoch - 2ms/step\n",
      "Epoch 87/200\n",
      "23/23 - 0s - loss: 18.8081 - val_loss: 129.4791 - 42ms/epoch - 2ms/step\n",
      "Epoch 88/200\n",
      "23/23 - 0s - loss: 18.7998 - val_loss: 133.4223 - 42ms/epoch - 2ms/step\n",
      "Epoch 89/200\n",
      "23/23 - 0s - loss: 18.4175 - val_loss: 139.0733 - 41ms/epoch - 2ms/step\n",
      "Epoch 90/200\n",
      "23/23 - 0s - loss: 18.3444 - val_loss: 130.6691 - 41ms/epoch - 2ms/step\n",
      "Epoch 91/200\n",
      "23/23 - 0s - loss: 18.2667 - val_loss: 141.9934 - 43ms/epoch - 2ms/step\n",
      "Epoch 92/200\n",
      "23/23 - 0s - loss: 18.1200 - val_loss: 132.8298 - 42ms/epoch - 2ms/step\n",
      "Epoch 93/200\n",
      "23/23 - 0s - loss: 18.0930 - val_loss: 129.9597 - 43ms/epoch - 2ms/step\n",
      "Epoch 94/200\n",
      "23/23 - 0s - loss: 18.2026 - val_loss: 128.3653 - 44ms/epoch - 2ms/step\n",
      "Epoch 95/200\n",
      "23/23 - 0s - loss: 17.8881 - val_loss: 122.4346 - 42ms/epoch - 2ms/step\n",
      "Epoch 96/200\n",
      "23/23 - 0s - loss: 18.0345 - val_loss: 127.2204 - 43ms/epoch - 2ms/step\n",
      "Epoch 97/200\n",
      "23/23 - 0s - loss: 17.9019 - val_loss: 129.2526 - 43ms/epoch - 2ms/step\n",
      "Epoch 98/200\n",
      "23/23 - 0s - loss: 17.9066 - val_loss: 127.6097 - 44ms/epoch - 2ms/step\n",
      "Epoch 99/200\n",
      "23/23 - 0s - loss: 17.6933 - val_loss: 134.3303 - 44ms/epoch - 2ms/step\n",
      "Epoch 100/200\n",
      "23/23 - 0s - loss: 17.5498 - val_loss: 139.7681 - 43ms/epoch - 2ms/step\n",
      "Epoch 101/200\n",
      "23/23 - 0s - loss: 17.7235 - val_loss: 131.8109 - 44ms/epoch - 2ms/step\n",
      "Epoch 102/200\n",
      "23/23 - 0s - loss: 17.6891 - val_loss: 135.2812 - 43ms/epoch - 2ms/step\n",
      "Epoch 103/200\n",
      "23/23 - 0s - loss: 17.5372 - val_loss: 132.8081 - 42ms/epoch - 2ms/step\n",
      "Epoch 104/200\n",
      "23/23 - 0s - loss: 17.6032 - val_loss: 131.0791 - 43ms/epoch - 2ms/step\n",
      "Epoch 105/200\n",
      "23/23 - 0s - loss: 17.1883 - val_loss: 138.8104 - 43ms/epoch - 2ms/step\n",
      "Epoch 106/200\n",
      "23/23 - 0s - loss: 17.2236 - val_loss: 118.3392 - 42ms/epoch - 2ms/step\n",
      "Epoch 107/200\n",
      "23/23 - 0s - loss: 17.5794 - val_loss: 130.5125 - 43ms/epoch - 2ms/step\n",
      "Epoch 108/200\n",
      "23/23 - 0s - loss: 17.6923 - val_loss: 138.3439 - 43ms/epoch - 2ms/step\n",
      "Epoch 109/200\n",
      "23/23 - 0s - loss: 17.6776 - val_loss: 140.2676 - 42ms/epoch - 2ms/step\n",
      "Epoch 110/200\n",
      "23/23 - 0s - loss: 17.4948 - val_loss: 127.0581 - 42ms/epoch - 2ms/step\n",
      "Epoch 111/200\n",
      "23/23 - 0s - loss: 17.0329 - val_loss: 126.5983 - 42ms/epoch - 2ms/step\n",
      "Epoch 112/200\n",
      "23/23 - 0s - loss: 16.7127 - val_loss: 142.2504 - 43ms/epoch - 2ms/step\n",
      "Epoch 113/200\n",
      "23/23 - 0s - loss: 17.2697 - val_loss: 141.4170 - 43ms/epoch - 2ms/step\n",
      "Epoch 114/200\n",
      "23/23 - 0s - loss: 16.9473 - val_loss: 131.5587 - 43ms/epoch - 2ms/step\n",
      "Epoch 115/200\n",
      "23/23 - 0s - loss: 17.0342 - val_loss: 128.3711 - 42ms/epoch - 2ms/step\n",
      "Epoch 116/200\n",
      "23/23 - 0s - loss: 16.6075 - val_loss: 120.3035 - 48ms/epoch - 2ms/step\n",
      "Epoch 117/200\n",
      "23/23 - 0s - loss: 16.4751 - val_loss: 133.5689 - 43ms/epoch - 2ms/step\n",
      "Epoch 118/200\n",
      "23/23 - 0s - loss: 16.5571 - val_loss: 133.9094 - 42ms/epoch - 2ms/step\n",
      "Epoch 119/200\n",
      "23/23 - 0s - loss: 17.1702 - val_loss: 141.7611 - 43ms/epoch - 2ms/step\n",
      "Epoch 120/200\n",
      "23/23 - 0s - loss: 16.5330 - val_loss: 129.7406 - 42ms/epoch - 2ms/step\n",
      "Epoch 121/200\n",
      "23/23 - 0s - loss: 16.3633 - val_loss: 131.6080 - 44ms/epoch - 2ms/step\n",
      "Epoch 122/200\n",
      "23/23 - 0s - loss: 16.1679 - val_loss: 131.1195 - 42ms/epoch - 2ms/step\n",
      "Epoch 123/200\n",
      "23/23 - 0s - loss: 16.0783 - val_loss: 135.5286 - 43ms/epoch - 2ms/step\n",
      "Epoch 124/200\n",
      "23/23 - 0s - loss: 16.4306 - val_loss: 146.6836 - 45ms/epoch - 2ms/step\n",
      "Epoch 125/200\n",
      "23/23 - 0s - loss: 16.6253 - val_loss: 136.7235 - 42ms/epoch - 2ms/step\n",
      "Epoch 126/200\n",
      "23/23 - 0s - loss: 15.9132 - val_loss: 122.4073 - 44ms/epoch - 2ms/step\n",
      "Epoch 127/200\n",
      "23/23 - 0s - loss: 15.8840 - val_loss: 140.2299 - 43ms/epoch - 2ms/step\n",
      "Epoch 128/200\n",
      "23/23 - 0s - loss: 16.1603 - val_loss: 134.4069 - 42ms/epoch - 2ms/step\n",
      "Epoch 129/200\n",
      "23/23 - 0s - loss: 15.9922 - val_loss: 140.9616 - 44ms/epoch - 2ms/step\n",
      "Epoch 130/200\n",
      "23/23 - 0s - loss: 15.7075 - val_loss: 135.3558 - 44ms/epoch - 2ms/step\n",
      "Epoch 131/200\n",
      "23/23 - 0s - loss: 16.1010 - val_loss: 130.5433 - 44ms/epoch - 2ms/step\n",
      "Epoch 132/200\n",
      "23/23 - 0s - loss: 15.9473 - val_loss: 136.9454 - 43ms/epoch - 2ms/step\n",
      "Epoch 133/200\n",
      "23/23 - 0s - loss: 15.5249 - val_loss: 128.5476 - 44ms/epoch - 2ms/step\n",
      "Epoch 134/200\n",
      "23/23 - 0s - loss: 15.9620 - val_loss: 133.2609 - 42ms/epoch - 2ms/step\n",
      "Epoch 135/200\n",
      "23/23 - 0s - loss: 15.5101 - val_loss: 128.3546 - 43ms/epoch - 2ms/step\n",
      "Epoch 136/200\n",
      "23/23 - 0s - loss: 15.9162 - val_loss: 133.1134 - 43ms/epoch - 2ms/step\n",
      "Epoch 137/200\n",
      "23/23 - 0s - loss: 15.6655 - val_loss: 129.8464 - 45ms/epoch - 2ms/step\n",
      "Epoch 138/200\n",
      "23/23 - 0s - loss: 15.5838 - val_loss: 126.6086 - 43ms/epoch - 2ms/step\n",
      "Epoch 139/200\n",
      "23/23 - 0s - loss: 15.8985 - val_loss: 132.6888 - 45ms/epoch - 2ms/step\n",
      "Epoch 140/200\n",
      "23/23 - 0s - loss: 16.6198 - val_loss: 152.2274 - 46ms/epoch - 2ms/step\n",
      "Epoch 141/200\n",
      "23/23 - 0s - loss: 16.4169 - val_loss: 133.4333 - 44ms/epoch - 2ms/step\n",
      "Epoch 142/200\n",
      "23/23 - 0s - loss: 16.1996 - val_loss: 135.1052 - 43ms/epoch - 2ms/step\n",
      "Epoch 143/200\n",
      "23/23 - 0s - loss: 15.4769 - val_loss: 129.7569 - 44ms/epoch - 2ms/step\n",
      "Epoch 144/200\n",
      "23/23 - 0s - loss: 15.3817 - val_loss: 125.8199 - 44ms/epoch - 2ms/step\n",
      "Epoch 145/200\n",
      "23/23 - 0s - loss: 15.6346 - val_loss: 132.9513 - 44ms/epoch - 2ms/step\n",
      "Epoch 146/200\n",
      "23/23 - 0s - loss: 15.0297 - val_loss: 125.2837 - 47ms/epoch - 2ms/step\n",
      "Epoch 147/200\n",
      "23/23 - 0s - loss: 15.2918 - val_loss: 138.6394 - 43ms/epoch - 2ms/step\n",
      "Epoch 148/200\n",
      "23/23 - 0s - loss: 15.0971 - val_loss: 127.4668 - 49ms/epoch - 2ms/step\n",
      "Epoch 149/200\n",
      "23/23 - 0s - loss: 15.0677 - val_loss: 117.1836 - 44ms/epoch - 2ms/step\n",
      "Epoch 150/200\n",
      "23/23 - 0s - loss: 15.6597 - val_loss: 125.0734 - 45ms/epoch - 2ms/step\n",
      "Epoch 151/200\n",
      "23/23 - 0s - loss: 14.8997 - val_loss: 125.3543 - 44ms/epoch - 2ms/step\n",
      "Epoch 152/200\n",
      "23/23 - 0s - loss: 15.0508 - val_loss: 128.4578 - 44ms/epoch - 2ms/step\n",
      "Epoch 153/200\n",
      "23/23 - 0s - loss: 15.2473 - val_loss: 125.0399 - 43ms/epoch - 2ms/step\n",
      "Epoch 154/200\n",
      "23/23 - 0s - loss: 14.6999 - val_loss: 124.5207 - 44ms/epoch - 2ms/step\n",
      "Epoch 155/200\n",
      "23/23 - 0s - loss: 14.7920 - val_loss: 128.7564 - 44ms/epoch - 2ms/step\n",
      "Epoch 156/200\n",
      "23/23 - 0s - loss: 14.9441 - val_loss: 125.1698 - 43ms/epoch - 2ms/step\n",
      "Epoch 157/200\n",
      "23/23 - 0s - loss: 15.1189 - val_loss: 129.8846 - 43ms/epoch - 2ms/step\n",
      "Epoch 158/200\n",
      "23/23 - 0s - loss: 14.7061 - val_loss: 119.1961 - 44ms/epoch - 2ms/step\n",
      "Epoch 159/200\n",
      "23/23 - 0s - loss: 14.7080 - val_loss: 124.0499 - 44ms/epoch - 2ms/step\n",
      "Epoch 160/200\n",
      "23/23 - 0s - loss: 14.6751 - val_loss: 124.9891 - 44ms/epoch - 2ms/step\n",
      "Epoch 161/200\n",
      "23/23 - 0s - loss: 14.6061 - val_loss: 127.6098 - 43ms/epoch - 2ms/step\n",
      "Epoch 162/200\n",
      "23/23 - 0s - loss: 14.7589 - val_loss: 125.3749 - 43ms/epoch - 2ms/step\n",
      "Epoch 163/200\n",
      "23/23 - 0s - loss: 14.9696 - val_loss: 122.4054 - 44ms/epoch - 2ms/step\n",
      "Epoch 164/200\n",
      "23/23 - 0s - loss: 14.4156 - val_loss: 128.1877 - 43ms/epoch - 2ms/step\n",
      "Epoch 165/200\n",
      "23/23 - 0s - loss: 14.5575 - val_loss: 134.0455 - 44ms/epoch - 2ms/step\n",
      "Epoch 166/200\n",
      "23/23 - 0s - loss: 15.1448 - val_loss: 144.0258 - 43ms/epoch - 2ms/step\n",
      "Epoch 167/200\n",
      "23/23 - 0s - loss: 14.7974 - val_loss: 137.2980 - 44ms/epoch - 2ms/step\n",
      "Epoch 168/200\n",
      "23/23 - 0s - loss: 14.4508 - val_loss: 142.4163 - 45ms/epoch - 2ms/step\n",
      "Epoch 169/200\n",
      "23/23 - 0s - loss: 14.9293 - val_loss: 129.7719 - 44ms/epoch - 2ms/step\n",
      "Epoch 170/200\n",
      "23/23 - 0s - loss: 14.3327 - val_loss: 121.7375 - 43ms/epoch - 2ms/step\n",
      "Epoch 171/200\n",
      "23/23 - 0s - loss: 14.5406 - val_loss: 128.9792 - 45ms/epoch - 2ms/step\n",
      "Epoch 172/200\n",
      "23/23 - 0s - loss: 14.6961 - val_loss: 122.3144 - 44ms/epoch - 2ms/step\n",
      "Epoch 173/200\n",
      "23/23 - 0s - loss: 14.1087 - val_loss: 127.7678 - 45ms/epoch - 2ms/step\n",
      "Epoch 174/200\n",
      "23/23 - 0s - loss: 14.3878 - val_loss: 115.1537 - 43ms/epoch - 2ms/step\n",
      "Epoch 175/200\n",
      "23/23 - 0s - loss: 14.3650 - val_loss: 125.3855 - 44ms/epoch - 2ms/step\n",
      "Epoch 176/200\n",
      "23/23 - 0s - loss: 13.9484 - val_loss: 126.5899 - 44ms/epoch - 2ms/step\n",
      "Epoch 177/200\n",
      "23/23 - 0s - loss: 14.0365 - val_loss: 115.5014 - 48ms/epoch - 2ms/step\n",
      "Epoch 178/200\n",
      "23/23 - 0s - loss: 14.3267 - val_loss: 131.1919 - 44ms/epoch - 2ms/step\n",
      "Epoch 179/200\n",
      "23/23 - 0s - loss: 13.9004 - val_loss: 121.8529 - 44ms/epoch - 2ms/step\n",
      "Epoch 180/200\n",
      "23/23 - 0s - loss: 14.0212 - val_loss: 131.2537 - 43ms/epoch - 2ms/step\n",
      "Epoch 181/200\n",
      "23/23 - 0s - loss: 14.1473 - val_loss: 130.7859 - 44ms/epoch - 2ms/step\n",
      "Epoch 182/200\n",
      "23/23 - 0s - loss: 13.8428 - val_loss: 142.1272 - 44ms/epoch - 2ms/step\n",
      "Epoch 183/200\n",
      "23/23 - 0s - loss: 14.1295 - val_loss: 134.6268 - 45ms/epoch - 2ms/step\n",
      "Epoch 184/200\n",
      "23/23 - 0s - loss: 13.6651 - val_loss: 123.1930 - 44ms/epoch - 2ms/step\n",
      "Epoch 185/200\n",
      "23/23 - 0s - loss: 13.6652 - val_loss: 127.7768 - 43ms/epoch - 2ms/step\n",
      "Epoch 186/200\n",
      "23/23 - 0s - loss: 13.8017 - val_loss: 138.4877 - 44ms/epoch - 2ms/step\n",
      "Epoch 187/200\n",
      "23/23 - 0s - loss: 13.8359 - val_loss: 128.3331 - 44ms/epoch - 2ms/step\n",
      "Epoch 188/200\n",
      "23/23 - 0s - loss: 13.7127 - val_loss: 130.5790 - 44ms/epoch - 2ms/step\n",
      "Epoch 189/200\n",
      "23/23 - 0s - loss: 14.0930 - val_loss: 123.6247 - 45ms/epoch - 2ms/step\n",
      "Epoch 190/200\n",
      "23/23 - 0s - loss: 13.6943 - val_loss: 139.7139 - 45ms/epoch - 2ms/step\n",
      "Epoch 191/200\n",
      "23/23 - 0s - loss: 13.6118 - val_loss: 132.5649 - 46ms/epoch - 2ms/step\n",
      "Epoch 192/200\n",
      "23/23 - 0s - loss: 13.6169 - val_loss: 132.9096 - 46ms/epoch - 2ms/step\n",
      "Epoch 193/200\n",
      "23/23 - 0s - loss: 14.3236 - val_loss: 121.4846 - 45ms/epoch - 2ms/step\n",
      "Epoch 194/200\n",
      "23/23 - 0s - loss: 14.0249 - val_loss: 123.5511 - 45ms/epoch - 2ms/step\n",
      "Epoch 195/200\n",
      "23/23 - 0s - loss: 13.7660 - val_loss: 131.0661 - 44ms/epoch - 2ms/step\n",
      "Epoch 196/200\n",
      "23/23 - 0s - loss: 13.6197 - val_loss: 124.9734 - 45ms/epoch - 2ms/step\n",
      "Epoch 197/200\n",
      "23/23 - 0s - loss: 13.8558 - val_loss: 125.9381 - 44ms/epoch - 2ms/step\n",
      "Epoch 198/200\n",
      "23/23 - 0s - loss: 13.8446 - val_loss: 126.4338 - 45ms/epoch - 2ms/step\n",
      "Epoch 199/200\n",
      "23/23 - 0s - loss: 13.6135 - val_loss: 134.9191 - 43ms/epoch - 2ms/step\n",
      "Epoch 200/200\n",
      "23/23 - 0s - loss: 13.4495 - val_loss: 130.0055 - 45ms/epoch - 2ms/step\n"
     ]
    },
    {
     "data": {
      "text/plain": [
       "<keras.callbacks.History at 0x17c2a8d06d0>"
      ]
     },
     "execution_count": 22,
     "metadata": {},
     "output_type": "execute_result"
    }
   ],
   "source": [
    "# fit the model\n",
    "model.fit(predictors_norm, target, validation_split=0.3, epochs=100, verbose=2)"
   ]
  },
  {
   "cell_type": "markdown",
   "metadata": {},
   "source": [
    "<strong>You can refer to this [link](https://keras.io/models/sequential/?utm_medium=Exinfluencer&utm_source=Exinfluencer&utm_content=000026UJ&utm_term=10006555&utm_id=NA-SkillsNetwork-Channel-SkillsNetworkCoursesIBMDeveloperSkillsNetworkDL0101ENSkillsNetwork945-2022-01-01) to learn about other functions that you can use for prediction or evaluation.</strong>\n"
   ]
  },
  {
   "cell_type": "markdown",
   "metadata": {},
   "source": [
    "Feel free to vary the following and note what impact each change has on the model's performance:\n",
    "\n",
    "1. Increase or decreate number of neurons in hidden layers\n",
    "2. Add more hidden layers\n",
    "3. Increase number of epochs\n"
   ]
  },
  {
   "cell_type": "markdown",
   "metadata": {},
   "source": [
    "### Thank you for completing this lab!"
   ]
  }
 ],
 "metadata": {
  "kernelspec": {
   "display_name": "Python 3 (ipykernel)",
   "language": "python",
   "name": "python3"
  },
  "language_info": {
   "codemirror_mode": {
    "name": "ipython",
    "version": 3
   },
   "file_extension": ".py",
   "mimetype": "text/x-python",
   "name": "python",
   "nbconvert_exporter": "python",
   "pygments_lexer": "ipython3",
   "version": "3.9.18"
  }
 },
 "nbformat": 4,
 "nbformat_minor": 4
}
